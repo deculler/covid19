{
 "cells": [
  {
   "cell_type": "markdown",
   "metadata": {},
   "source": [
    "# COVID-19 Worldwide report analysis\n",
    "\n",
    "Utilizes the daily data reporting from Johns Hopkins University Center for Systems Science and Engineering (JHU CSSE):\n",
    "https://systems.jhu.edu/. This is pulled from time series maintained at Github repo:\n",
    "https://github.com/CSSEGISandData/COVID-19.  \n",
    "\n",
    "Using the introductory Data Science Tables (for reference see http://data8.org/datascience/tables.html) of introductory courses.\n",
    "\n",
    "On 3/23 the timeseries moved and US state level data is no longer present."
   ]
  },
  {
   "cell_type": "code",
   "execution_count": null,
   "metadata": {},
   "outputs": [
    {
     "data": {
      "text/plain": [
       "'0.15.0'"
      ]
     },
     "execution_count": 1,
     "metadata": {},
     "output_type": "execute_result"
    }
   ],
   "source": [
    "# HIDDEN\n",
    "# This useful nonsense should just go at the top of your notebook.\n",
    "from datascience import *\n",
    "%matplotlib inline\n",
    "#%matplotlib notebook\n",
    "import matplotlib.pyplot as plots\n",
    "import numpy as np\n",
    "import scipy\n",
    "plots.style.use('fivethirtyeight')\n",
    "plots.rc('lines', linewidth=2, color='r')\n",
    "from ipywidgets import interact\n",
    "import ipywidgets as widgets\n",
    "# datascience version number of last run of this notebook\n",
    "version.__version__"
   ]
  },
  {
   "cell_type": "code",
   "execution_count": null,
   "metadata": {},
   "outputs": [],
   "source": [
    "import sys\n",
    "sys.path.append(\".\")\n",
    "from timetable import TimeTable\n",
    "\n",
    "import locale\n",
    "locale.setlocale( locale.LC_ALL, 'en_US.UTF-8' ) \n",
    "\n",
    "import os\n",
    "import datetime\n",
    "\n",
    "# Parsing and cleaning\n",
    "def denan(v):\n",
    "    return v if v != 'nan' else np.nan\n",
    "\n",
    "def clean(tbl):\n",
    "    for lbl in tbl.labels:\n",
    "        tbl[lbl] = tbl.apply(denan, lbl)\n",
    "\n",
    "def is_state(name):\n",
    "    return not ',' in name\n",
    "\n",
    "def is_county(name):\n",
    "    return ',' in name\n",
    "\n",
    "def getstate(name):\n",
    "    county, state = name.split(', ')\n",
    "    return state\n",
    "\n",
    "def getcounty(name):\n",
    "    county, state = name.split(', ')\n",
    "    return county\n",
    "\n",
    "# Tools for working with timestamps\n",
    "def less_day(day1, day2):\n",
    "    \"\"\"Return day1 < day2\"\"\"\n",
    "    return datetime.datetime.strptime(day1, \"%m/%d/%y\") < datetime.datetime.strptime(day2, \"%m/%d/%y\")\n",
    "\n",
    "# Projecting growth rates\n",
    "\n",
    "def ave_growth(trend, window=4):\n",
    "    \"\"\"Average recent growth rate of single trend\"\"\"\n",
    "    vals = [x for x in trend.take[-window:]['rate'] if np.isfinite(x)]\n",
    "    return scipy.stats.gmean(vals)\n",
    "\n",
    "def inc_day(day, ndays=1):\n",
    "    \"\"\"Return day + ndays\"\"\"\n",
    "    date =  datetime.datetime.strptime(day, \"%m/%d/%y\") + datetime.timedelta(days=ndays)\n",
    "    return datetime.datetime.strftime(date, \"%m/%d/%y\")\n",
    "\n",
    "def format_day(day):\n",
    "    \"\"\"Return day \"\"\"\n",
    "    date =  datetime.datetime.strptime(day, \"%m/%d/%y\")\n",
    "    return datetime.datetime.strftime(date, \"%m/%d/%y\")\n",
    "\n",
    "def project_trend(trend, num_days, rate=None):\n",
    "    if rate :\n",
    "        growth_rate = rate\n",
    "    else :\n",
    "        growth_rate = ave_growth(trend)\n",
    "        \n",
    "    day = trend.last('Day')\n",
    "    val = trend.last(1)\n",
    "    growth = trend.last('new')\n",
    "    pnew = trend.last('% new')\n",
    "    proj = trend.copy()\n",
    "    for i in range(num_days):\n",
    "        day = inc_day(day)\n",
    "        growth = round(growth * growth_rate)\n",
    "        val = val + growth\n",
    "        pnew = growth/val\n",
    "        proj.append((day, val, growth, pnew, growth_rate))\n",
    "    return proj"
   ]
  },
  {
   "cell_type": "code",
   "execution_count": null,
   "metadata": {},
   "outputs": [],
   "source": [
    "# Tools for working with content\n",
    "def by_country(raw_world):\n",
    "    \"\"\"Aggregate country level data from the raw source\"\"\"\n",
    "    res = raw_world.drop(['Province/State', 'Lat', 'Long']).group('Country/Region', sum)\n",
    "    for lbl in res.labels[1:] :\n",
    "        res.relabel(lbl, format_day(lbl[:-4]))\n",
    "    return res"
   ]
  },
  {
   "cell_type": "code",
   "execution_count": null,
   "metadata": {},
   "outputs": [],
   "source": [
    "# CSV files for data currated by JHU.\n",
    "# These changed recently\n",
    "\n",
    "#confirmedURL = \"https://raw.githubusercontent.com/CSSEGISandData/COVID-19/master/csse_covid_19_data/csse_covid_19_time_series/time_series_19-covid-Confirmed.csv\"\n",
    "confirmedURL = \"https://raw.githubusercontent.com/CSSEGISandData/COVID-19/master/csse_covid_19_data/csse_covid_19_time_series/time_series_covid19_confirmed_global.csv\" \n",
    "\n",
    "#deathURL = \"https://raw.githubusercontent.com/CSSEGISandData/COVID-19/master/csse_covid_19_data/csse_covid_19_time_series/time_series_19-covid-Deaths.csv\"\n",
    "#recoveredURL = \"https://raw.githubusercontent.com/CSSEGISandData/COVID-19/master/csse_covid_19_data/csse_covid_19_time_series/time_series_19-covid-Recovered.csv\""
   ]
  },
  {
   "cell_type": "code",
   "execution_count": null,
   "metadata": {},
   "outputs": [],
   "source": [
    "# Raw data of confirmed cases\n",
    "raw_confirmed = Table.read_table(confirmedURL)\n",
    "raw_confirmed"
   ]
  },
  {
   "cell_type": "code",
   "execution_count": null,
   "metadata": {},
   "outputs": [],
   "source": [
    "# Aggregate data by country\n",
    "\n",
    "raw_by_country = by_country(raw_confirmed)"
   ]
  },
  {
   "cell_type": "markdown",
   "metadata": {},
   "source": [
    "### How many of the 195 recognized countries in the world have reported cases?\n",
    "\n",
    "This does include some non-countries, like Princess Cruises"
   ]
  },
  {
   "cell_type": "code",
   "execution_count": null,
   "metadata": {},
   "outputs": [],
   "source": [
    "raw_by_country.num_rows"
   ]
  },
  {
   "cell_type": "code",
   "execution_count": null,
   "metadata": {},
   "outputs": [],
   "source": [
    "# Transpose country data to provide timeseries column per country\n",
    "\n",
    "countries_by_day = TimeTable.transpose(raw_by_country, 'Country/Region', time_col='Day', time_less = less_day)\n",
    "countries_by_day['Day'] = countries_by_day.apply(format_day, 'Day')\n",
    "#countries_by_day.take[-7:]"
   ]
  },
  {
   "cell_type": "code",
   "execution_count": null,
   "metadata": {},
   "outputs": [],
   "source": [
    "# Change this to truncate data analysys to an earlier date\n",
    "last_day = countries_by_day.last('Day')\n",
    "print(\"last day of data:\", last_day)\n",
    "#last_day = \"3/22/20\"\n",
    "countries_by_day = countries_by_day.until(last_day)\n",
    "countries_by_day.order_cols().take[-10:]"
   ]
  },
  {
   "cell_type": "markdown",
   "metadata": {},
   "source": [
    "### Total confirmed cases worldwide"
   ]
  },
  {
   "cell_type": "code",
   "execution_count": null,
   "metadata": {},
   "outputs": [],
   "source": [
    "total_confirmed = countries_by_day.select('Day')\n",
    "total_confirmed['Worldwide'] = countries_by_day.sum_rows()\n",
    "print('Total confirmed', total_confirmed.last('Worldwide'))\n",
    "total_confirmed.obar(height=6, width=8)\n",
    "_ = plots.xticks(rotation=45)"
   ]
  },
  {
   "cell_type": "markdown",
   "metadata": {},
   "source": [
    "## Global confirmed cases by country - largest"
   ]
  },
  {
   "cell_type": "code",
   "execution_count": null,
   "metadata": {},
   "outputs": [],
   "source": [
    "countries_by_day.stackbar(15, height=6, width=8)\n",
    "_ = plots.xticks(rotation=45)"
   ]
  },
  {
   "cell_type": "markdown",
   "metadata": {},
   "source": [
    "## Global picture sans China\n",
    "\n",
    "The global growth rate above is somewhat optimistic, since the growth across the world is amortized over the substantial, but flat, cases in China, now mostly resolved.  Removing that we see a more accurate picture of the trends"
   ]
  },
  {
   "cell_type": "code",
   "execution_count": null,
   "metadata": {},
   "outputs": [],
   "source": [
    "# Recent worldwide growth trend - past week\n",
    "total_confirmed.trend().take[-7:]"
   ]
  },
  {
   "cell_type": "code",
   "execution_count": null,
   "metadata": {},
   "outputs": [],
   "source": [
    "# Taking China out of the picture\n",
    "sans_china_by_day = countries_by_day.drop('China')\n",
    "sans_china_by_day.stackbar(15, height=6, width=7)\n",
    "_ = plots.xticks(rotation=45)"
   ]
  },
  {
   "cell_type": "code",
   "execution_count": null,
   "metadata": {},
   "outputs": [],
   "source": [
    "sans_china_confirmed = sans_china_by_day.select('Day')\n",
    "sans_china_confirmed['Worldwide sans China'] = sans_china_by_day.sum_rows()\n",
    "sans_china_confirmed.trend().take[-15:].show()"
   ]
  },
  {
   "cell_type": "markdown",
   "metadata": {},
   "source": [
    "## Projecting global trends two weeks out\n",
    "\n",
    "The following indicates confirmed cases for the two weeks ahead."
   ]
  },
  {
   "cell_type": "code",
   "execution_count": null,
   "metadata": {},
   "outputs": [],
   "source": [
    "project_trend(total_confirmed.trend().take[-7:], 14).show()"
   ]
  },
  {
   "cell_type": "code",
   "execution_count": null,
   "metadata": {},
   "outputs": [],
   "source": [
    "proj = project_trend(total_confirmed.trend().take[-10:], 14).select(['Day', 'Worldwide', 'new'])\n",
    "proj.bar('Day')"
   ]
  },
  {
   "cell_type": "markdown",
   "metadata": {},
   "source": [
    "Assuming China stays flat and using the growth rate of the rest of the world, we get a more concerning picture."
   ]
  },
  {
   "cell_type": "code",
   "execution_count": null,
   "metadata": {},
   "outputs": [],
   "source": [
    "project_trend(sans_china_confirmed.trend().take[-10:], 14).show()"
   ]
  },
  {
   "cell_type": "code",
   "execution_count": null,
   "metadata": {},
   "outputs": [],
   "source": [
    "proj = project_trend(sans_china_confirmed.trend().take[-10:], 14).select(range(3))\n",
    "proj.bar('Day')"
   ]
  },
  {
   "cell_type": "markdown",
   "metadata": {},
   "source": [
    "# Country level trends\n",
    "\n",
    "Recent confirmed cases on a country by country basis."
   ]
  },
  {
   "cell_type": "code",
   "execution_count": null,
   "metadata": {},
   "outputs": [],
   "source": [
    "countries_by_day.top(15).oplot(height=6, width=9)\n",
    "xs = countries_by_day['Day']\n",
    "_ = plots.xticks(xs[range(0, len(xs), 5)], rotation=45)"
   ]
  },
  {
   "cell_type": "code",
   "execution_count": null,
   "metadata": {},
   "outputs": [],
   "source": [
    "def cases_since(cases, threshold=100, width=6, height=6):\n",
    "    _, axis = plots.subplots(figsize=(width, height))\n",
    "    for region in cases.categories :\n",
    "        ctbl = cases.extract(region)\n",
    "        since = ctbl.where(ctbl[region] >= threshold)\n",
    "        ndays = since.num_rows\n",
    "        vals = since[region]\n",
    "        axis.plot(vals)\n",
    "        axis.text(ndays-1, vals[-1], region)"
   ]
  },
  {
   "cell_type": "code",
   "execution_count": null,
   "metadata": {},
   "outputs": [],
   "source": [
    "cases_since(countries_by_day.top(10), width=8)"
   ]
  },
  {
   "cell_type": "code",
   "execution_count": null,
   "metadata": {},
   "outputs": [],
   "source": [
    "countries_by_day.top(15).take[-10:]"
   ]
  },
  {
   "cell_type": "code",
   "execution_count": null,
   "metadata": {},
   "outputs": [],
   "source": [
    "countries_by_day.top(15).trend().take[-10:]"
   ]
  },
  {
   "cell_type": "code",
   "execution_count": null,
   "metadata": {},
   "outputs": [],
   "source": [
    "def project_one(country, back, forward):\n",
    "    return project_trend(countries_by_day.extract(country).take[-back:].trend(), forward).select('Day', country)\n",
    "\n",
    "def project_all(back, forward):\n",
    "    projs = project_one(countries_by_day.categories[0], back, forward)\n",
    "    for country in countries_by_day.categories[1:] :\n",
    "        try :\n",
    "            proj = project_one(country, back, forward)\n",
    "            if not np.isnan(proj.last(country)) :\n",
    "                projs[country] = proj[country]\n",
    "        except :\n",
    "            print('skip', country)\n",
    "    return projs"
   ]
  },
  {
   "cell_type": "code",
   "execution_count": null,
   "metadata": {},
   "outputs": [],
   "source": [
    "ww_projection = project_all(7, 14).order_cols()\n",
    "ww_projection['Day'] = ww_projection.apply(format_day, 'Day')\n",
    "ww_projection.show()"
   ]
  },
  {
   "cell_type": "code",
   "execution_count": null,
   "metadata": {},
   "outputs": [],
   "source": [
    "ww_projection.stackbar(20, height=8, width=8)"
   ]
  },
  {
   "cell_type": "code",
   "execution_count": null,
   "metadata": {},
   "outputs": [],
   "source": [
    "ww_projection.top(15).oplot(height=8, width=8)\n",
    "_ = plots.xticks(rotation=45)"
   ]
  },
  {
   "cell_type": "code",
   "execution_count": null,
   "metadata": {},
   "outputs": [],
   "source": [
    "countries_by_day.top(10).take[-7:]"
   ]
  },
  {
   "cell_type": "code",
   "execution_count": null,
   "metadata": {},
   "outputs": [],
   "source": [
    "final_trend = countries_by_day.trend().take[-1:]\n",
    "final_trend"
   ]
  },
  {
   "cell_type": "code",
   "execution_count": null,
   "metadata": {},
   "outputs": [],
   "source": [
    "def countries(raw_world):\n",
    "    \"\"\"Country level metadata from the raw source\"\"\"\n",
    "    res = raw_world.select(['Country/Region', 'Lat', 'Long']).group('Country/Region', np.mean)\n",
    "    return res\n",
    "\n",
    "def get_new(trend, country):\n",
    "    return trend['new ' + country][-1]\n",
    "\n",
    "def get_rate(trend, country):\n",
    "    return trend['rate ' + country][-1]"
   ]
  },
  {
   "cell_type": "code",
   "execution_count": null,
   "metadata": {},
   "outputs": [],
   "source": [
    "days = countries_by_day.num_rows\n",
    "country_summary = countries(raw_confirmed).join('Country/Region', raw_by_country.select(['Country/Region', last_day]))\n",
    "country_summary['new'] = country_summary.apply(lambda c: get_new(final_trend, c), 'Country/Region')\n",
    "country_summary['growth'] = country_summary['new'] / country_summary[last_day]\n",
    "country_summary['rate'] = country_summary.apply(lambda c: get_rate(final_trend, c), 'Country/Region')\n",
    "country_summary['days'] = country_summary.apply(lambda c: days - np.count_nonzero(countries_by_day[c] < 5), 'Country/Region')"
   ]
  },
  {
   "cell_type": "code",
   "execution_count": null,
   "metadata": {},
   "outputs": [],
   "source": [
    "country_summary.sort('rate', descending=True).show()"
   ]
  },
  {
   "cell_type": "code",
   "execution_count": null,
   "metadata": {},
   "outputs": [],
   "source": [
    "def label_point(country, x, y):\n",
    "    t = country_summary.where('Country/Region', country)\n",
    "    plots.text(t[x][0], t[y], country)"
   ]
  },
  {
   "cell_type": "markdown",
   "metadata": {},
   "source": [
    "## Growth rate versus number of confirmed cases\n",
    "\n",
    "A greast deal of attention is focused on the countries with the largest number of confirmed cases.  But that mostly refects the the time since community transmission started.  We should be paying more attention to growth rates.  That paints a very different picture.  The large infected population is increasing around 10% per day.  But many of the countries that are earlier in the process are growing incredibly quickly."
   ]
  },
  {
   "cell_type": "code",
   "execution_count": null,
   "metadata": {},
   "outputs": [],
   "source": [
    "largest_cases = country_summary.sort(last_day, descending=True).take[:8]\n",
    "largest_cases"
   ]
  },
  {
   "cell_type": "code",
   "execution_count": null,
   "metadata": {},
   "outputs": [],
   "source": [
    "largest_growth = country_summary.sort('growth', descending=True).take[:10]\n",
    "largest_growth"
   ]
  },
  {
   "cell_type": "code",
   "execution_count": null,
   "metadata": {},
   "outputs": [],
   "source": [
    "country_summary.where(country_summary['growth']>=0).select([last_day, 'growth']).scatter('growth', width=8)\n",
    "for c in largest_cases['Country/Region']:\n",
    "    label_point(c, 'growth', last_day)\n",
    "label_point('Turkey', 'growth', last_day)"
   ]
  },
  {
   "cell_type": "code",
   "execution_count": null,
   "metadata": {},
   "outputs": [],
   "source": [
    "country_summary.select([last_day, 'days']).scatter('days', width=8)\n",
    "for c in largest_cases['Country/Region']:\n",
    "    label_point(c, 'days', last_day)"
   ]
  },
  {
   "cell_type": "code",
   "execution_count": null,
   "metadata": {},
   "outputs": [],
   "source": [
    "country_summary.select(['growth', 'days']).scatter('days', width=8)\n",
    "for c in largest_growth['Country/Region']:\n",
    "    label_point(c, 'days', 'growth')"
   ]
  },
  {
   "cell_type": "code",
   "execution_count": null,
   "metadata": {},
   "outputs": [],
   "source": [
    "country_summary.sort('days', descending=True).take[:15].show()"
   ]
  },
  {
   "cell_type": "markdown",
   "metadata": {},
   "source": [
    "## Will warmer seasons help?  What about lower lattitudes?\n",
    "\n",
    "Much has been said about warmer weather reducing the spread.  Some have suggested that southern hemisphere or lower latitudes are harbingers of how that might develop.  We can look at confirmed cases and growth by latitude.\n"
   ]
  },
  {
   "cell_type": "code",
   "execution_count": null,
   "metadata": {},
   "outputs": [],
   "source": [
    "country_summary.where(country_summary['growth']>=0).select([last_day, 'Lat mean']).scatter(last_day, width=8)\n",
    "for c in largest_cases['Country/Region']:\n",
    "    label_point(c, last_day, 'Lat mean')\n",
    "max_cases = max(country_summary[last_day])\n",
    "plots.plot([0,max_cases], [23.5, 23.5])\n",
    "plots.plot([0,max_cases], [-23.5, -23.5])"
   ]
  },
  {
   "cell_type": "code",
   "execution_count": null,
   "metadata": {},
   "outputs": [],
   "source": [
    "country_summary.where(country_summary['growth'] > 0.2)"
   ]
  },
  {
   "cell_type": "code",
   "execution_count": null,
   "metadata": {},
   "outputs": [],
   "source": [
    "country_summary.where(country_summary['growth']>=0).select(['growth', 'Lat mean']).scatter('growth', width=8, height=9)\n",
    "for c in country_summary.where(country_summary['growth'] > 0.125)['Country/Region']:\n",
    "    label_point(c, 'growth', 'Lat mean')\n",
    "max_growth = max(country_summary['growth'])\n",
    "_ = plots.plot([0,max_growth], [23.5, 23.5])\n",
    "_ = plots.plot([0,max_growth], [-23.5, -23.5])"
   ]
  },
  {
   "cell_type": "markdown",
   "metadata": {},
   "source": [
    "### Confirmed cases in one country"
   ]
  },
  {
   "cell_type": "code",
   "execution_count": null,
   "metadata": {},
   "outputs": [],
   "source": [
    "w = widgets.Dropdown(\n",
    "    options=countries_by_day.categories,\n",
    "    value='US',\n",
    "    # rows=10,\n",
    "    description='Country:',\n",
    "    disabled=False\n",
    ")\n",
    "w"
   ]
  },
  {
   "cell_type": "code",
   "execution_count": null,
   "metadata": {},
   "outputs": [],
   "source": [
    "country = w.value"
   ]
  },
  {
   "cell_type": "code",
   "execution_count": null,
   "metadata": {},
   "outputs": [],
   "source": [
    "country_trend = countries_by_day.extract(country).trend()\n",
    "country_trend.following('3/11/20').show()"
   ]
  },
  {
   "cell_type": "code",
   "execution_count": null,
   "metadata": {},
   "outputs": [],
   "source": [
    "recent = country_trend.following('3/11/20')\n",
    "recent.extract([country, 'new']).bar('Day', height=5)\n",
    "_ = plots.xticks(rotation=45)"
   ]
  },
  {
   "cell_type": "code",
   "execution_count": null,
   "metadata": {},
   "outputs": [],
   "source": [
    "projection = project_trend(recent, 14)\n",
    "projection.show()"
   ]
  },
  {
   "cell_type": "code",
   "execution_count": null,
   "metadata": {},
   "outputs": [],
   "source": [
    "projection.extract([country, 'new']).bar('Day')\n",
    "_ = plots.xticks(rotation=45)"
   ]
  },
  {
   "cell_type": "code",
   "execution_count": null,
   "metadata": {},
   "outputs": [],
   "source": []
  },
  {
   "cell_type": "code",
   "execution_count": null,
   "metadata": {},
   "outputs": [],
   "source": []
  }
 ],
 "metadata": {
  "kernelspec": {
   "display_name": "Python 3",
   "language": "python",
   "name": "python3"
  },
  "language_info": {
   "codemirror_mode": {
    "name": "ipython",
    "version": 3
   },
   "file_extension": ".py",
   "mimetype": "text/x-python",
   "name": "python",
   "nbconvert_exporter": "python",
   "pygments_lexer": "ipython3",
   "version": "3.6.8"
  }
 },
 "nbformat": 4,
 "nbformat_minor": 2
}
